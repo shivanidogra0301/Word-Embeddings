{
  "nbformat": 4,
  "nbformat_minor": 0,
  "metadata": {
    "colab": {
      "name": "word_embedding_basics.ipynb",
      "provenance": [],
      "collapsed_sections": []
    },
    "kernelspec": {
      "name": "python3",
      "display_name": "Python 3"
    }
  },
  "cells": [
    {
      "cell_type": "code",
      "metadata": {
        "id": "Z8G5mZafH1r2",
        "colab_type": "code",
        "colab": {}
      },
      "source": [
        "!wget -P /root/input/ -c \"https://s3.amazonaws.com/dl4j-distribution/GoogleNews-vectors-negative300.bin.gz\""
      ],
      "execution_count": 0,
      "outputs": []
    },
    {
      "cell_type": "code",
      "metadata": {
        "id": "zAenWsIXLAPf",
        "colab_type": "code",
        "colab": {}
      },
      "source": [
        "import gensim\n",
        "from gensim.models import word2vec\n",
        "from gensim.models import KeyedVectors\n",
        "from sklearn.metrics.pairwise import cosine_similarity\n",
        "import numpy as np\n"
      ],
      "execution_count": 0,
      "outputs": []
    },
    {
      "cell_type": "code",
      "metadata": {
        "id": "6WI9MUUuL0Bn",
        "colab_type": "code",
        "outputId": "c3c1d6cd-308d-4b4b-ce46-2d12128966d0",
        "colab": {
          "base_uri": "https://localhost:8080/",
          "height": 72
        }
      },
      "source": [
        "EMBEDDING_FILE = '/root/input/GoogleNews-vectors-negative300.bin.gz'\n",
        "\n",
        "word_vectors=KeyedVectors.load_word2vec_format(EMBEDDING_FILE,binary='True')"
      ],
      "execution_count": 5,
      "outputs": [
        {
          "output_type": "stream",
          "text": [
            "/usr/local/lib/python3.6/dist-packages/smart_open/smart_open_lib.py:253: UserWarning: This function is deprecated, use smart_open.open instead. See the migration notes for details: https://github.com/RaRe-Technologies/smart_open/blob/master/README.rst#migrating-to-the-new-open-function\n",
            "  'See the migration notes for details: %s' % _MIGRATION_NOTES_URL\n"
          ],
          "name": "stderr"
        }
      ]
    },
    {
      "cell_type": "code",
      "metadata": {
        "id": "AfEbYsnHMf6y",
        "colab_type": "code",
        "colab": {}
      },
      "source": [
        "v_apple=word_vectors[\"apple\"]\n",
        "v_orange=word_vectors[\"orange\"]"
      ],
      "execution_count": 0,
      "outputs": []
    },
    {
      "cell_type": "code",
      "metadata": {
        "id": "i_jTQ_o9RrjG",
        "colab_type": "code",
        "outputId": "475af0a7-d19a-4003-aa56-019ff7e79bc8",
        "colab": {
          "base_uri": "https://localhost:8080/",
          "height": 35
        }
      },
      "source": [
        "print(v_apple.shape,v_orange.shape)"
      ],
      "execution_count": 0,
      "outputs": [
        {
          "output_type": "stream",
          "text": [
            "(300,) (300,)\n"
          ],
          "name": "stdout"
        }
      ]
    },
    {
      "cell_type": "code",
      "metadata": {
        "id": "n1OmfEKxRxyb",
        "colab_type": "code",
        "outputId": "510dc26e-b87d-4212-833a-e5d369dd599d",
        "colab": {
          "base_uri": "https://localhost:8080/",
          "height": 35
        }
      },
      "source": [
        "cosine_similarity([v_apple],[v_orange])"
      ],
      "execution_count": 0,
      "outputs": [
        {
          "output_type": "execute_result",
          "data": {
            "text/plain": [
              "array([[0.33449447]], dtype=float32)"
            ]
          },
          "metadata": {
            "tags": []
          },
          "execution_count": 11
        }
      ]
    },
    {
      "cell_type": "code",
      "metadata": {
        "id": "lY6Bb4RHR9Yr",
        "colab_type": "code",
        "colab": {}
      },
      "source": [
        ""
      ],
      "execution_count": 0,
      "outputs": []
    },
    {
      "cell_type": "markdown",
      "metadata": {
        "id": "yOHCEUyVSUjx",
        "colab_type": "text"
      },
      "source": [
        "## 1 ODD ONE OUT"
      ]
    },
    {
      "cell_type": "code",
      "metadata": {
        "id": "2WzDrMteSPMJ",
        "colab_type": "code",
        "colab": {}
      },
      "source": [
        "# accepts list of words and return odd one out\n",
        "def odd_one_out(words):\n",
        "  # Generate all word embeddings for the given list\n",
        "  all_word_vectors=[word_vectors[word] for word in words]\n",
        "  avg_vec=np.mean(all_word_vectors,axis=0)\n",
        "  print(avg_vec.shape)\n",
        "  #iterate over every words and find similarity\n",
        "  odd_one=None\n",
        "  min_similarity=1\n",
        "  for w in words:\n",
        "    sim=cosine_similarity([word_vectors[w]],[avg_vec])\n",
        "    if sim<min_similarity:\n",
        "      min_similarity=sim\n",
        "      odd_one=w\n",
        "    print(\"Similarity between %s and average vector is %.2f\"%(w,sim))\n",
        "  return odd_one    \n"
      ],
      "execution_count": 0,
      "outputs": []
    },
    {
      "cell_type": "code",
      "metadata": {
        "id": "dvTI234c09HD",
        "colab_type": "code",
        "colab": {}
      },
      "source": [
        "input_1 = [\"apple\",\"mango\",\"juice\",\"party\",\"orange\"] \n",
        "input_2 = [\"music\",\"dance\",\"sleep\",\"dancer\",\"food\"]        \n",
        "input_3  = [\"match\",\"player\",\"football\",\"cricket\",\"dancer\"]\n",
        "input_4 = [\"india\",\"paris\",\"russia\",\"france\",\"germany\"]"
      ],
      "execution_count": 0,
      "outputs": []
    },
    {
      "cell_type": "code",
      "metadata": {
        "id": "RmvFwUhp1ELG",
        "colab_type": "code",
        "outputId": "0049b7b7-14e2-4e0d-8d53-da6d35d8aac4",
        "colab": {
          "base_uri": "https://localhost:8080/",
          "height": 139
        }
      },
      "source": [
        "odd_one_out(input_2)"
      ],
      "execution_count": 0,
      "outputs": [
        {
          "output_type": "stream",
          "text": [
            "(300,)\n",
            "Similarity between music and average vector is 0.66\n",
            "Similarity between dance and average vector is 0.81\n",
            "Similarity between sleep and average vector is 0.51\n",
            "Similarity between dancer and average vector is 0.72\n",
            "Similarity between food and average vector is 0.52\n"
          ],
          "name": "stdout"
        },
        {
          "output_type": "execute_result",
          "data": {
            "text/plain": [
              "'sleep'"
            ]
          },
          "metadata": {
            "tags": []
          },
          "execution_count": 19
        }
      ]
    },
    {
      "cell_type": "markdown",
      "metadata": {
        "id": "4cEpV7X824SD",
        "colab_type": "text"
      },
      "source": [
        "### 2. Word Analogies Task"
      ]
    },
    {
      "cell_type": "code",
      "metadata": {
        "id": "xfdB3UEZ1Ku6",
        "colab_type": "code",
        "outputId": "d87f4eec-0161-4300-a053-2eaca22db9d9",
        "colab": {
          "base_uri": "https://localhost:8080/",
          "height": 35
        }
      },
      "source": [
        "type(word_vectors.vocab)"
      ],
      "execution_count": 0,
      "outputs": [
        {
          "output_type": "execute_result",
          "data": {
            "text/plain": [
              "dict"
            ]
          },
          "metadata": {
            "tags": []
          },
          "execution_count": 20
        }
      ]
    },
    {
      "cell_type": "code",
      "metadata": {
        "id": "tEkz-_US38vV",
        "colab_type": "code",
        "colab": {}
      },
      "source": [
        "#accepts a triad a,b,c then predict d such that when a is to b::c is to d\n",
        "def predict_word(a,b,c,word_vectors):\n",
        "  a,b,c=a.lower(),b.lower(),c.lower()\n",
        "  max_similarity=-100\n",
        "  d=None\n",
        "  words=word_vectors.vocab.keys()\n",
        "  wa,wb,wc=word_vectors[a],word_vectors[b],word_vectors[c]\n",
        "  for w in words:\n",
        "    if w in [a,b,c]:\n",
        "      continue\n",
        "    wv=word_vectors[w]\n",
        "    sim=cosine_similarity([wb-wa],[wv-wc])\n",
        "    if sim>max_similarity:\n",
        "      max_similarity=sim\n",
        "      d=w\n",
        "  return d"
      ],
      "execution_count": 0,
      "outputs": []
    },
    {
      "cell_type": "code",
      "metadata": {
        "id": "xiYu7K5N58zB",
        "colab_type": "code",
        "outputId": "99c4a489-82d8-449f-b282-dfe343d0a3ee",
        "colab": {
          "base_uri": "https://localhost:8080/",
          "height": 35
        }
      },
      "source": [
        "triad=[\"man\",\"woman\",\"king\"]\n",
        "print(predict_word(*triad,word_vectors))"
      ],
      "execution_count": 8,
      "outputs": [
        {
          "output_type": "stream",
          "text": [
            "queen\n"
          ],
          "name": "stdout"
        }
      ]
    },
    {
      "cell_type": "code",
      "metadata": {
        "id": "foyLbDdfxp0W",
        "colab_type": "code",
        "colab": {
          "base_uri": "https://localhost:8080/",
          "height": 89
        },
        "outputId": "60d2b977-fff4-40fb-af4c-cd5caf5d98cb"
      },
      "source": [
        "# We can also find word analogies using most similar method\n",
        "word_vectors.most_similar(positive=['woman', 'king'], negative=['man'], topn=1)"
      ],
      "execution_count": 6,
      "outputs": [
        {
          "output_type": "stream",
          "text": [
            "/usr/local/lib/python3.6/dist-packages/gensim/matutils.py:737: FutureWarning: Conversion of the second argument of issubdtype from `int` to `np.signedinteger` is deprecated. In future, it will be treated as `np.int64 == np.dtype(int).type`.\n",
            "  if np.issubdtype(vec.dtype, np.int):\n"
          ],
          "name": "stderr"
        },
        {
          "output_type": "execute_result",
          "data": {
            "text/plain": [
              "[('queen', 0.7118192911148071)]"
            ]
          },
          "metadata": {
            "tags": []
          },
          "execution_count": 6
        }
      ]
    },
    {
      "cell_type": "code",
      "metadata": {
        "id": "RoJAl6cex5PB",
        "colab_type": "code",
        "colab": {}
      },
      "source": [
        ""
      ],
      "execution_count": 0,
      "outputs": []
    }
  ]
}